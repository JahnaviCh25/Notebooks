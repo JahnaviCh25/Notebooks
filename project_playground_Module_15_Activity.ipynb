{
  "nbformat": 4,
  "nbformat_minor": 0,
  "metadata": {
    "colab": {
      "provenance": [],
      "include_colab_link": true
    },
    "kernelspec": {
      "name": "python3",
      "display_name": "Python 3"
    },
    "language_info": {
      "name": "python"
    }
  },
  "cells": [
    {
      "cell_type": "markdown",
      "metadata": {
        "id": "view-in-github",
        "colab_type": "text"
      },
      "source": [
        "<a href=\"https://colab.research.google.com/github/JahnaviCh25/Notebooks/blob/main/project_playground_Module_15_Activity.ipynb\" target=\"_parent\"><img src=\"https://colab.research.google.com/assets/colab-badge.svg\" alt=\"Open In Colab\"/></a>"
      ]
    },
    {
      "cell_type": "markdown",
      "source": [
        "# Module 15 Activity\n",
        "\n",
        "## Getting Started\n",
        "\n",
        "* Colab - get notebook from gitmystuff DTSC5502 repository\n",
        "* Save a Copy in Drive\n",
        "* Remove Copy of\n",
        "\n",
        "## Overview\n",
        "\n",
        "* Github Basics\n",
        "* HTML Basics - Resume\n",
        "* Python Module Template - Replit\n",
        "* Colab and Github\n",
        "* Data Science / Analysis Projects"
      ],
      "metadata": {
        "id": "agVqL-cyrFOl"
      }
    },
    {
      "cell_type": "markdown",
      "source": [
        "## What is Github?\n",
        "\n",
        "* An easy to use web service for version control and collaboration\n",
        "* Use GitHub to manage projects like software development, writing books and research papers, websites, quality control, resumes, portfolios, etc\n",
        "\n",
        "Sources\n",
        "\n",
        "* https://kinsta.com/knowledgebase/what-is-github/\n",
        "* https://github.com/topics/portfolio\n",
        "* https://github.com/topics/research-paper\n",
        "* https://ben.balter.com/2015/02/06/word-diff/"
      ],
      "metadata": {
        "id": "_uR4DOC4-31h"
      }
    },
    {
      "cell_type": "markdown",
      "source": [
        "## Hello World\n",
        "\n",
        "* https://docs.github.com/en/get-started/quickstart/hello-world"
      ],
      "metadata": {
        "id": "ntwZHE3HBOcO"
      }
    },
    {
      "cell_type": "markdown",
      "source": [
        "## Fork a Repo\n",
        "\n",
        "* https://docs.github.com/en/get-started/quickstart/fork-a-repo\n",
        "* https://github.com/octocat/Spoon-Knife"
      ],
      "metadata": {
        "id": "bfVKXn5qEkQz"
      }
    },
    {
      "cell_type": "markdown",
      "source": [
        "## HTML Basics\n",
        "\n",
        "* https://replit.com/talk/learn/Full-HTML-Tutorial/78035"
      ],
      "metadata": {
        "id": "zm8W7osnOJWd"
      }
    },
    {
      "cell_type": "markdown",
      "source": [
        "## Create a Web Site from Github\n",
        "\n",
        "* https://github.com/Ovi/HTML-CSS-CV\n",
        "* https://github.com/topics/cv-template\n",
        "* https://docs.github.com/en/pages/getting-started-with-github-pages/configuring-a-publishing-source-for-your-github-pages-site"
      ],
      "metadata": {
        "id": "N3Z32kwbOLkm"
      }
    },
    {
      "cell_type": "markdown",
      "source": [
        "## Using Replit\n",
        "\n",
        "* Review of Python Module\n",
        "* https://docs.replit.com/programming-ide/using-git-on-replit/use-gui\n",
        "* https://docs.replit.com/programming-ide/using-git-on-replit/import-repository\n",
        "* https://docs.replit.com/programming-ide/using-git-on-replit/running-github-repositories-replit\n",
        "* Downloading Zip\n",
        "* Using Zip on Colab\n",
        "  * import zipfile\n",
        "  * zipfile.ZipFile('name_of_file.zip').extractall('.')\n",
        "  * ls\n",
        "  * contents will show up in session storage"
      ],
      "metadata": {
        "id": "kXw-P8HaOSAP"
      }
    },
    {
      "cell_type": "markdown",
      "source": [
        "## Colab and Github\n",
        "\n",
        "* https://medium.com/@ashwindesilva/how-to-use-google-colaboratory-to-clone-a-github-repository-e07cf8d3d22b\n",
        "* Saving notebooks to folders new and old"
      ],
      "metadata": {
        "id": "9y4KqwTROUu3"
      }
    },
    {
      "cell_type": "markdown",
      "source": [
        "## Data Science / Analysis Projects\n",
        "\n",
        "* https://www.kdnuggets.com/2023/02/5-data-analysis-projects-beginners.html\n",
        "* Check out Gradio - https://www.gradio.app/"
      ],
      "metadata": {
        "id": "twsZgBIneFBI"
      }
    },
    {
      "cell_type": "code",
      "source": [
        "from project.dtsc5502.version import _version_\n",
        "import dtsc5502.statistics as stats\n",
        "import dtsc5502.probabilities as probs\n",
        "\n",
        "print(_version_)\n",
        "lst = {1,2,3}\n",
        "print(stats.descriptive.mean(lst))\n",
        "print(probs.functions.factorial(3))\n"
      ],
      "metadata": {
        "id": "ewkKkG0oWjgX"
      },
      "execution_count": null,
      "outputs": []
    },
    {
      "cell_type": "code",
      "source": [
        "! git clone https://github.com/JahnaviCh25/project.git"
      ],
      "metadata": {
        "colab": {
          "base_uri": "https://localhost:8080/"
        },
        "id": "c-Jtv83eWjyM",
        "outputId": "d1361c5c-2b05-4c4c-adc2-4db7455632fe"
      },
      "execution_count": 1,
      "outputs": [
        {
          "output_type": "stream",
          "name": "stdout",
          "text": [
            "Cloning into 'project'...\n",
            "remote: Enumerating objects: 15, done.\u001b[K\n",
            "remote: Counting objects: 100% (15/15), done.\u001b[K\n",
            "remote: Compressing objects: 100% (12/12), done.\u001b[K\n",
            "remote: Total 15 (delta 1), reused 15 (delta 1), pack-reused 0\u001b[K\n",
            "Receiving objects: 100% (15/15), done.\n",
            "Resolving deltas: 100% (1/1), done.\n"
          ]
        }
      ]
    }
  ]
}