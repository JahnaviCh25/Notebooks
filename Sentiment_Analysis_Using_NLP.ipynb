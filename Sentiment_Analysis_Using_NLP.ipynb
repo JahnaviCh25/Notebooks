{
  "nbformat": 4,
  "nbformat_minor": 0,
  "metadata": {
    "colab": {
      "provenance": [],
      "authorship_tag": "ABX9TyOB5gWn2qbZCm0sjt2bkofq",
      "include_colab_link": true
    },
    "kernelspec": {
      "name": "python3",
      "display_name": "Python 3"
    },
    "language_info": {
      "name": "python"
    }
  },
  "cells": [
    {
      "cell_type": "markdown",
      "metadata": {
        "id": "view-in-github",
        "colab_type": "text"
      },
      "source": [
        "<a href=\"https://colab.research.google.com/github/JahnaviCh25/Notebooks/blob/main/Sentiment_Analysis_Using_NLP.ipynb\" target=\"_parent\"><img src=\"https://colab.research.google.com/assets/colab-badge.svg\" alt=\"Open In Colab\"/></a>"
      ]
    },
    {
      "cell_type": "markdown",
      "source": [
        "This is my practise project for a beginner series on learning NLP techniques.\n",
        "Project Name: Semantic Analysis on Amazon Fine Food Reviews\n",
        "Dataset: Amazon Fine Food Reviews taken from Kaggle https://www.kaggle.com/datasets/snap/amazon-fine-food-reviews\n",
        "\n"
      ],
      "metadata": {
        "id": "0y-rp0b0pviG"
      }
    },
    {
      "cell_type": "code",
      "execution_count": null,
      "metadata": {
        "id": "ZW2_PVNFkmVK"
      },
      "outputs": [],
      "source": []
    }
  ]
}